{
 "cells": [
  {
   "cell_type": "code",
   "execution_count": 8,
   "id": "01f449e5",
   "metadata": {},
   "outputs": [
    {
     "name": "stdout",
     "output_type": "stream",
     "text": [
      "Enter the number:12\n",
      "Given number is positive\n"
     ]
    }
   ],
   "source": [
    "number= float(input('Enter the number:'))\n",
    "if number>0:\n",
    "    print (\"Given number is positive\")\n",
    "else:\n",
    "    print (\"Given number is negative\")"
   ]
  },
  {
   "cell_type": "code",
   "execution_count": 11,
   "id": "a14ff0e3",
   "metadata": {},
   "outputs": [
    {
     "name": "stdout",
     "output_type": "stream",
     "text": [
      "Enter the number:-12\n",
      "Given number is negative\n"
     ]
    }
   ],
   "source": [
    "number= int(input('Enter the number:'))\n",
    "if number>0:\n",
    "    print (\"Given number is positive\")\n",
    "else:\n",
    "    print (\"Given number is negative\")"
   ]
  },
  {
   "cell_type": "code",
   "execution_count": 15,
   "id": "84eedecb",
   "metadata": {},
   "outputs": [
    {
     "name": "stdout",
     "output_type": "stream",
     "text": [
      "Enter the number:32534313\n",
      "Given number is odd\n"
     ]
    }
   ],
   "source": [
    "number= int(input('Enter the number:'))\n",
    "if (number%2)==0:\n",
    "     print (\"Given number is even\")\n",
    "else:\n",
    "    print (\"Given number is odd\")"
   ]
  },
  {
   "cell_type": "code",
   "execution_count": 19,
   "id": "d8a4a426",
   "metadata": {},
   "outputs": [
    {
     "name": "stdout",
     "output_type": "stream",
     "text": [
      "Enter the number:25\n",
      "Given number is divisible buy 5\n"
     ]
    }
   ],
   "source": [
    "number= int(input('Enter the number:'))\n",
    "if (number%5)==0:\n",
    "     print (\"Given number is divisible by 5\")\n",
    "else:\n",
    "    print (\"Given number is  not divisible by 5\")"
   ]
  },
  {
   "cell_type": "code",
   "execution_count": 22,
   "id": "3190c081",
   "metadata": {},
   "outputs": [
    {
     "name": "stdout",
     "output_type": "stream",
     "text": [
      "Enter the number:35\n",
      "Given number is divisible by both 5 and 7\n"
     ]
    }
   ],
   "source": [
    "number= int(input('Enter the number:'))\n",
    "if ((number%7)==0 and (number%5)==0) :\n",
    "     print (\"Given number is divisible by both 5 and 7\")\n",
    "else:\n",
    "    print (\"Given number is  not divisible by both 5 and 7\")"
   ]
  },
  {
   "cell_type": "code",
   "execution_count": 26,
   "id": "4c58ddb5",
   "metadata": {},
   "outputs": [
    {
     "name": "stdout",
     "output_type": "stream",
     "text": [
      "Enter the number:11\n",
      "Given number is  not divisible by 5 or 7\n"
     ]
    }
   ],
   "source": [
    "number= int(input('Enter the number:'))\n",
    "if (number%5)==0:\n",
    "     print (\"Given number is is divisible by 5\")\n",
    "elif (number%7)==0:\n",
    "    print (\"Given number is is divisible by 7\")\n",
    "else:\n",
    "    print (\"Given number is  not divisible by 5 or 7\")"
   ]
  },
  {
   "cell_type": "code",
   "execution_count": 30,
   "id": "c99215b4",
   "metadata": {},
   "outputs": [],
   "source": []
  },
  {
   "cell_type": "code",
   "execution_count": null,
   "id": "d9a8ee6b",
   "metadata": {},
   "outputs": [],
   "source": []
  }
 ],
 "metadata": {
  "kernelspec": {
   "display_name": "Python 3 (ipykernel)",
   "language": "python",
   "name": "python3"
  },
  "language_info": {
   "codemirror_mode": {
    "name": "ipython",
    "version": 3
   },
   "file_extension": ".py",
   "mimetype": "text/x-python",
   "name": "python",
   "nbconvert_exporter": "python",
   "pygments_lexer": "ipython3",
   "version": "3.11.5"
  }
 },
 "nbformat": 4,
 "nbformat_minor": 5
}
